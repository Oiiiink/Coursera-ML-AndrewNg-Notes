{
 "cells": [
  {
   "cell_type": "markdown",
   "id": "0d6ad9b1",
   "metadata": {},
   "source": [
    "### what is machine learning\n",
    "> Field of study that gives computers the ability to learn without being explicitly programmed\n",
    "> \n",
    ">                                                                                   --- Arthur Samuel\n",
    "\n",
    "##### Supervised Learning\n",
    "models are given some inputs and the correct outputs of these inputs to make some x-to-y mappings, through these (input, output) pair, machine has the ability to predict or guess the output with the input only\n",
    "- Regression: **predict a number from many many numbers** \n",
    "- classfication: **predict categories from many categories**.  just have finite outputs to choose the final one, different from Regression which could predict a number from infinitely many numbers\n",
    "\n",
    "##### Unsupervised Learning\n",
    "- **without 'right answer' for input**\n",
    "- definition: algorithm has to find **structure** in the data which only comes with inputs $X$, but not output labels $Y$\n",
    "- clustering algorithm: to group inputs without label into different categories. example: news \n",
    "- anomaly detection: find unusual data points\n",
    "- dimensionality reduction: compress data using few number"
   ]
  }
 ],
 "metadata": {
  "language_info": {
   "name": "python"
  }
 },
 "nbformat": 4,
 "nbformat_minor": 5
}
