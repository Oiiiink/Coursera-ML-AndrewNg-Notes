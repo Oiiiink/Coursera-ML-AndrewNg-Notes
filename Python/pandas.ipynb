{
 "cells": [
  {
   "cell_type": "markdown",
   "id": "d1098fa8",
   "metadata": {},
   "source": [
    "excel 表读取，基本数据处理"
   ]
  },
  {
   "cell_type": "code",
   "execution_count": 32,
   "id": "b5c33068",
   "metadata": {},
   "outputs": [
    {
     "name": "stdout",
     "output_type": "stream",
     "text": [
      "   序号 作物编号 作物名称 地块类型 种植季次   亩产量/斤  种植成本/(元/亩) 销售单价/(元/斤)\n",
      "0   1    1   黄豆  平旱地   单季   400.0       400.0  2.50-4.00\n",
      "1   2    2   黑豆  平旱地   单季   500.0       400.0  6.50-8.50\n",
      "2   3    3   红豆  平旱地   单季   400.0       350.0  7.50-9.00\n",
      "3   4    4   绿豆  平旱地   单季   350.0       350.0  6.00-8.00\n",
      "4   5    5   爬豆  平旱地   单季   415.0       350.0  6.00-7.50\n",
      "5   6    6   小麦  平旱地   单季   800.0       450.0  3.00-4.00\n",
      "6   7    7   玉米  平旱地   单季  1000.0       500.0  2.50-3.50\n",
      "7   8    8   谷子  平旱地   单季   400.0       360.0  6.00-7.50\n",
      "8   9    9   高粱  平旱地   单季   630.0       400.0  5.50-6.50\n",
      "9  10   10   黍子  平旱地   单季   525.0       360.0  6.50-8.50\n",
      "<class 'pandas.core.frame.DataFrame'>\n"
     ]
    }
   ],
   "source": [
    "import pandas as pd\n",
    "\n",
    "df = pd.read_excel('附件2.xlsx', '2023年统计的相关数据', engine = 'openpyxl')\n",
    "print(df.head(10))\n",
    "print(type(df))"
   ]
  },
  {
   "cell_type": "code",
   "execution_count": 33,
   "id": "d95b4d6c",
   "metadata": {},
   "outputs": [
    {
     "data": {
      "text/html": [
       "<div>\n",
       "<style scoped>\n",
       "    .dataframe tbody tr th:only-of-type {\n",
       "        vertical-align: middle;\n",
       "    }\n",
       "\n",
       "    .dataframe tbody tr th {\n",
       "        vertical-align: top;\n",
       "    }\n",
       "\n",
       "    .dataframe thead th {\n",
       "        text-align: right;\n",
       "    }\n",
       "</style>\n",
       "<table border=\"1\" class=\"dataframe\">\n",
       "  <thead>\n",
       "    <tr style=\"text-align: right;\">\n",
       "      <th></th>\n",
       "      <th>第一</th>\n",
       "      <th>第二</th>\n",
       "    </tr>\n",
       "  </thead>\n",
       "  <tbody>\n",
       "    <tr>\n",
       "      <th>0</th>\n",
       "      <td>1</td>\n",
       "      <td>2</td>\n",
       "    </tr>\n",
       "    <tr>\n",
       "      <th>1</th>\n",
       "      <td>2</td>\n",
       "      <td>3</td>\n",
       "    </tr>\n",
       "    <tr>\n",
       "      <th>2</th>\n",
       "      <td>3</td>\n",
       "      <td>4</td>\n",
       "    </tr>\n",
       "  </tbody>\n",
       "</table>\n",
       "</div>"
      ],
      "text/plain": [
       "   第一  第二\n",
       "0   1   2\n",
       "1   2   3\n",
       "2   3   4"
      ]
     },
     "execution_count": 33,
     "metadata": {},
     "output_type": "execute_result"
    }
   ],
   "source": [
    "data = {'第一' : [1, 2, 3], '第二':[2, 3, 4]}\n",
    "datadf = pd.DataFrame(data)\n",
    "datadf"
   ]
  },
  {
   "cell_type": "code",
   "execution_count": 34,
   "id": "94a9dc0a",
   "metadata": {},
   "outputs": [
    {
     "name": "stdout",
     "output_type": "stream",
     "text": [
      "<class 'pandas.core.frame.DataFrame'>\n",
      "RangeIndex: 110 entries, 0 to 109\n",
      "Data columns (total 8 columns):\n",
      " #   Column      Non-Null Count  Dtype  \n",
      "---  ------      --------------  -----  \n",
      " 0   序号          108 non-null    object \n",
      " 1   作物编号        109 non-null    object \n",
      " 2   作物名称        107 non-null    object \n",
      " 3   地块类型        107 non-null    object \n",
      " 4   种植季次        107 non-null    object \n",
      " 5   亩产量/斤       107 non-null    float64\n",
      " 6   种植成本/(元/亩)  107 non-null    float64\n",
      " 7   销售单价/(元/斤)  107 non-null    object \n",
      "dtypes: float64(2), object(6)\n",
      "memory usage: 7.0+ KB\n"
     ]
    }
   ],
   "source": [
    "# 查看基本信息\n",
    "df.info() "
   ]
  },
  {
   "cell_type": "code",
   "execution_count": 35,
   "id": "b82419d9",
   "metadata": {},
   "outputs": [
    {
     "name": "stdout",
     "output_type": "stream",
     "text": [
      "      序号 作物编号 作物名称  地块类型 种植季次    亩产量/斤  种植成本/(元/亩)  销售单价/(元/斤)\n",
      "0      1    1   黄豆   平旱地   单季    400.0       400.0   2.50-4.00\n",
      "1      2    2   黑豆   平旱地   单季    500.0       400.0   6.50-8.50\n",
      "2      3    3   红豆   平旱地   单季    400.0       350.0   7.50-9.00\n",
      "3      4    4   绿豆   平旱地   单季    350.0       350.0   6.00-8.00\n",
      "4      5    5   爬豆   平旱地   单季    415.0       350.0   6.00-7.50\n",
      "..   ...  ...  ...   ...  ...      ...         ...         ...\n",
      "102  103   30  生菜   智慧大棚  第二季   4500.0      2200.0   5.40-7.20\n",
      "103  104   31   辣椒  智慧大棚  第二季   1800.0      1300.0  7.20-10.20\n",
      "104  105   32  空心菜  智慧大棚  第二季  11000.0      5500.0   3.60-7.20\n",
      "105  106   33  黄心菜  智慧大棚  第二季   5400.0      2750.0   4.80-6.00\n",
      "106  107   34   芹菜  智慧大棚  第二季   6000.0      1200.0   3.80-5.80\n",
      "\n",
      "[107 rows x 8 columns]\n"
     ]
    }
   ],
   "source": [
    "# 1. 缺失值处理(NAN)\n",
    "df = df.dropna()\n",
    "print(df)\n",
    "df['序号'] = df['序号'].astype(float)"
   ]
  },
  {
   "cell_type": "code",
   "execution_count": 36,
   "id": "e84a2dd4",
   "metadata": {},
   "outputs": [
    {
     "name": "stdout",
     "output_type": "stream",
     "text": [
      "0       True\n",
      "1       True\n",
      "2       True\n",
      "3       True\n",
      "4       True\n",
      "       ...  \n",
      "102    False\n",
      "103    False\n",
      "104    False\n",
      "105    False\n",
      "106    False\n",
      "Name: 地块类型, Length: 107, dtype: bool\n",
      "    序号 作物编号 作物名称 地块类型 种植季次  亩产量/斤  种植成本/(元/亩) 销售单价/(元/斤)\n",
      "0  1.0    1   黄豆  平旱地   单季  400.0       400.0  2.50-4.00\n",
      "1  2.0    2   黑豆  平旱地   单季  500.0       400.0  6.50-8.50\n",
      "2  3.0    3   红豆  平旱地   单季  400.0       350.0  7.50-9.00\n",
      "3  4.0    4   绿豆  平旱地   单季  350.0       350.0  6.00-8.00\n",
      "4  5.0    5   爬豆  平旱地   单季  415.0       350.0  6.00-7.50\n",
      "    序号 作物编号 作物名称 地块类型 种植季次  亩产量/斤  种植成本/(元/亩) 销售单价/(元/斤)\n",
      "0  1.0    1   黄豆  平旱地   单季  400.0       400.0  2.50-4.00\n",
      "1  2.0    2   黑豆  平旱地   单季  500.0       400.0  6.50-8.50\n",
      "2  3.0    3   红豆  平旱地   单季  400.0       350.0  7.50-9.00\n",
      "3  4.0    4   绿豆  平旱地   单季  350.0       350.0  6.00-8.00\n",
      "4  5.0    5   爬豆  平旱地   单季  415.0       350.0  6.00-7.50\n"
     ]
    }
   ],
   "source": [
    "# 2. 选择和过滤\n",
    "print(df['地块类型'] == '平旱地')\n",
    "print(df[df['地块类型'] == '平旱地'].head())\n",
    "\n",
    "# 3 sigma 准则剔除数据\n",
    "lb = df['亩产量/斤'].mean() - 3 * df['亩产量/斤'].std()\n",
    "ub = df['亩产量/斤'].mean() + 3 * df['亩产量/斤'].std()\n",
    "print(df[(df['亩产量/斤'] <= ub) & (df['亩产量/斤'] > lb)].head())"
   ]
  }
 ],
 "metadata": {
  "kernelspec": {
   "display_name": "Python 3",
   "language": "python",
   "name": "python3"
  },
  "language_info": {
   "codemirror_mode": {
    "name": "ipython",
    "version": 3
   },
   "file_extension": ".py",
   "mimetype": "text/x-python",
   "name": "python",
   "nbconvert_exporter": "python",
   "pygments_lexer": "ipython3",
   "version": "3.12.8"
  }
 },
 "nbformat": 4,
 "nbformat_minor": 5
}
