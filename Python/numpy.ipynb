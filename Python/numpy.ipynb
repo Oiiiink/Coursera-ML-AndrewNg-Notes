{
 "cells": [
  {
   "cell_type": "markdown",
   "id": "bc1c7d60",
   "metadata": {},
   "source": [
    "np数组以及对应的函数\n",
    "https://www.numpy.org.cn/reference/"
   ]
  },
  {
   "cell_type": "code",
   "execution_count": 34,
   "id": "f9f2b38c",
   "metadata": {},
   "outputs": [
    {
     "name": "stdout",
     "output_type": "stream",
     "text": [
      "[1 2 3 4 5]\n",
      "<class 'numpy.ndarray'>\n",
      "[[ 1  2  3  4  5]\n",
      " [ 6  7  8  9 10]]\n",
      "<class 'numpy.ndarray'>\n",
      "数组形状： 行： 2 列： 5\n"
     ]
    }
   ],
   "source": [
    "import numpy as np\n",
    "\n",
    "# 1. 数组的创建。 将列表传入参数\n",
    "arr = np.array([1, 2, 3, 4, 5])\n",
    "\n",
    "print(arr)\n",
    "print(type(arr))\n",
    "\n",
    "arr = np.array([[1, 2, 3, 4, 5], [6, 7, 8, 9, 10]])\n",
    "\n",
    "print(arr)\n",
    "print(type(arr))\n",
    "\n",
    "print('数组形状：', '行：' , arr.shape[0], '列：', arr.shape[1])"
   ]
  },
  {
   "cell_type": "code",
   "execution_count": 35,
   "id": "79b6038e",
   "metadata": {},
   "outputs": [
    {
     "name": "stdout",
     "output_type": "stream",
     "text": [
      "[ 6  7  8  9 10]\n",
      "[[1 2 3 4 5]]\n",
      "[[2]\n",
      " [7]]\n"
     ]
    }
   ],
   "source": [
    "# 2. 索引和切片\n",
    "print(arr[1])\n",
    "print(arr[0:1])\n",
    "print(arr[:, 1:2])"
   ]
  },
  {
   "cell_type": "code",
   "execution_count": 36,
   "id": "60d41535",
   "metadata": {},
   "outputs": [
    {
     "name": "stdout",
     "output_type": "stream",
     "text": [
      "列表运算： [1, 2, 3, 4, 5, 6]\n",
      "数组运算： [5 7 9]\n",
      "*: [ 4 10 18]\n"
     ]
    }
   ],
   "source": [
    "# 3. 计算(+-*/都是对应元素进行运算)\n",
    "print('列表运算：',[1, 2, 3] + [4, 5, 6])\n",
    "print('数组运算：', np.array([1, 2, 3]) + np.array([4, 5, 6]))\n",
    "print('*:' , np.array([1, 2, 3]) * np.array([4, 5, 6]))"
   ]
  },
  {
   "cell_type": "code",
   "execution_count": 37,
   "id": "4d74f383",
   "metadata": {},
   "outputs": [
    {
     "name": "stdout",
     "output_type": "stream",
     "text": [
      "(2, 5)\n",
      "[[ 1  2]\n",
      " [ 3  4]\n",
      " [ 5  6]\n",
      " [ 7  8]\n",
      " [ 9 10]] 新的数组形状是： (5, 2)\n",
      "[[ 1  3  5  7  9]\n",
      " [ 2  4  6  8 10]]\n"
     ]
    }
   ],
   "source": [
    "# 4. 数组形状操作\n",
    "print(arr.shape)\n",
    "arr1 = arr.reshape(5, 2)\n",
    "print(arr1, '新的数组形状是：', arr1.shape)\n",
    "print(arr1.transpose()) # 转置"
   ]
  },
  {
   "cell_type": "code",
   "execution_count": 38,
   "id": "3f231067",
   "metadata": {},
   "outputs": [
    {
     "name": "stdout",
     "output_type": "stream",
     "text": [
      "arr1: [1 2 3] arr2: [7 5 6]\n",
      "点乘： 35\n",
      "arr1的平均值： 2.0\n",
      "标准差： 0.816496580927726\n",
      "排序： [5 6 7]\n",
      "[ True False False]\n",
      "[7]\n"
     ]
    }
   ],
   "source": [
    "#5. 线性代数, 统计\n",
    "arr1 = np.array([1, 2, 3])\n",
    "arr2 = np.array([7, 5, 6])\n",
    "print('arr1:', arr1, 'arr2:', arr2)\n",
    "print('点乘：', np.dot(arr1, arr2))\n",
    "print('arr1的平均值：', arr1.mean())\n",
    "print('标准差：', np.std(arr1))\n",
    "print('排序：', np.sort(arr2))\n",
    "print(arr2>6) # 对应位置分别比较，可用于进行筛选\n",
    "print(arr2[(arr2>6) & (arr2<10)])"
   ]
  },
  {
   "cell_type": "code",
   "execution_count": 39,
   "id": "9e5cbbfb",
   "metadata": {},
   "outputs": [
    {
     "name": "stdout",
     "output_type": "stream",
     "text": [
      "[1 2 3]\n"
     ]
    }
   ],
   "source": [
    "#6. 数据的保存与导入\n",
    "np.save('arr', arr1)\n",
    "arr = np.load('arr.npy')\n",
    "print(arr)"
   ]
  }
 ],
 "metadata": {
  "kernelspec": {
   "display_name": "Python 3",
   "language": "python",
   "name": "python3"
  },
  "language_info": {
   "codemirror_mode": {
    "name": "ipython",
    "version": 3
   },
   "file_extension": ".py",
   "mimetype": "text/x-python",
   "name": "python",
   "nbconvert_exporter": "python",
   "pygments_lexer": "ipython3",
   "version": "3.12.8"
  }
 },
 "nbformat": 4,
 "nbformat_minor": 5
}
