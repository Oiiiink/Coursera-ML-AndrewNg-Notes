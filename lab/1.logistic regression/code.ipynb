{
 "cells": [
  {
   "cell_type": "markdown",
   "id": "55c764aa",
   "metadata": {},
   "source": [
    "### logistic regression to predict heart disease\n",
    "\n",
    "kaggle : https://www.kaggle.com/datasets/dileep070/heart-disease-prediction-using-logistic-regression/data\n",
    "\n",
    "Review work step:\n",
    "1. importing datas\n",
    "2. visualizing data to have a first impression.\n",
    "3. writing down core funtions of logistic regression(sigmoid, cost function, gradient descent)\n",
    "4. model training\n",
    "5. predicting data\n",
    "6. evaluating the model"
   ]
  },
  {
   "cell_type": "markdown",
   "id": "725bf45f",
   "metadata": {},
   "source": [
    "#### First. importing data"
   ]
  },
  {
   "cell_type": "code",
   "execution_count": 327,
   "id": "26af277e",
   "metadata": {},
   "outputs": [],
   "source": [
    "import numpy as np\n",
    "import pandas as pd\n",
    "import matplotlib.pyplot as plt\n",
    "import seaborn as sns\n",
    "\n",
    "path = r\"framingham.csv\"\n",
    "df = pd.read_csv(path)\n",
    "df.insert(0, 'ones', 1)\n",
    "df = df.fillna(df.mean())"
   ]
  },
  {
   "cell_type": "code",
   "execution_count": 328,
   "id": "d63e8153",
   "metadata": {},
   "outputs": [
    {
     "name": "stdout",
     "output_type": "stream",
     "text": [
      "   ones  male  age  education  currentSmoker  cigsPerDay  BPMeds  \\\n",
      "0     1     1   39        4.0              0         0.0     0.0   \n",
      "1     1     0   46        2.0              0         0.0     0.0   \n",
      "2     1     1   48        1.0              1        20.0     0.0   \n",
      "3     1     0   61        3.0              1        30.0     0.0   \n",
      "4     1     0   46        3.0              1        23.0     0.0   \n",
      "\n",
      "   prevalentStroke  prevalentHyp  diabetes  totChol  sysBP  diaBP    BMI  \\\n",
      "0                0             0         0    195.0  106.0   70.0  26.97   \n",
      "1                0             0         0    250.0  121.0   81.0  28.73   \n",
      "2                0             0         0    245.0  127.5   80.0  25.34   \n",
      "3                0             1         0    225.0  150.0   95.0  28.58   \n",
      "4                0             0         0    285.0  130.0   84.0  23.10   \n",
      "\n",
      "   heartRate  glucose  TenYearCHD  \n",
      "0       80.0     77.0           0  \n",
      "1       95.0     76.0           0  \n",
      "2       75.0     70.0           0  \n",
      "3       65.0    103.0           1  \n",
      "4       85.0     85.0           0  \n",
      "         ones         male          age    education  currentSmoker  \\\n",
      "count  4238.0  4238.000000  4238.000000  4238.000000    4238.000000   \n",
      "mean      1.0     0.429212    49.584946     1.978950       0.494101   \n",
      "std       0.0     0.495022     8.572160     1.007075       0.500024   \n",
      "min       1.0     0.000000    32.000000     1.000000       0.000000   \n",
      "25%       1.0     0.000000    42.000000     1.000000       0.000000   \n",
      "50%       1.0     0.000000    49.000000     2.000000       0.000000   \n",
      "75%       1.0     1.000000    56.000000     3.000000       1.000000   \n",
      "max       1.0     1.000000    70.000000     4.000000       1.000000   \n",
      "\n",
      "        cigsPerDay      BPMeds  prevalentStroke  prevalentHyp     diabetes  \\\n",
      "count  4238.000000  4238.00000      4238.000000   4238.000000  4238.000000   \n",
      "mean      9.003089     0.02963         0.005899      0.310524     0.025720   \n",
      "std      11.879230     0.16852         0.076587      0.462763     0.158316   \n",
      "min       0.000000     0.00000         0.000000      0.000000     0.000000   \n",
      "25%       0.000000     0.00000         0.000000      0.000000     0.000000   \n",
      "50%       0.000000     0.00000         0.000000      0.000000     0.000000   \n",
      "75%      20.000000     0.00000         0.000000      1.000000     0.000000   \n",
      "max      70.000000     1.00000         1.000000      1.000000     1.000000   \n",
      "\n",
      "           totChol        sysBP        diaBP          BMI    heartRate  \\\n",
      "count  4238.000000  4238.000000  4238.000000  4238.000000  4238.000000   \n",
      "mean    236.721585   132.352407    82.893464    25.802008    75.878924   \n",
      "std      44.326453    22.038097    11.910850     4.070953    12.025177   \n",
      "min     107.000000    83.500000    48.000000    15.540000    44.000000   \n",
      "25%     206.000000   117.000000    75.000000    23.080000    68.000000   \n",
      "50%     234.000000   128.000000    82.000000    25.410000    75.000000   \n",
      "75%     262.000000   144.000000    89.875000    28.037500    83.000000   \n",
      "max     696.000000   295.000000   142.500000    56.800000   143.000000   \n",
      "\n",
      "           glucose   TenYearCHD  \n",
      "count  4238.000000  4238.000000  \n",
      "mean     81.966753     0.151958  \n",
      "std      22.836603     0.359023  \n",
      "min      40.000000     0.000000  \n",
      "25%      72.000000     0.000000  \n",
      "50%      80.000000     0.000000  \n",
      "75%      85.000000     0.000000  \n",
      "max     394.000000     1.000000  \n"
     ]
    },
    {
     "data": {
      "text/plain": [
       "(4238, 17)"
      ]
     },
     "execution_count": 328,
     "metadata": {},
     "output_type": "execute_result"
    }
   ],
   "source": [
    "print(df.head())\n",
    "print(df.describe())\n",
    "df.shape"
   ]
  },
  {
   "cell_type": "code",
   "execution_count": 329,
   "id": "e0199c50",
   "metadata": {},
   "outputs": [
    {
     "name": "stdout",
     "output_type": "stream",
     "text": [
      "0.1519943356148218\n",
      "this is imbalance data\n"
     ]
    }
   ],
   "source": [
    "# slice the data and show the size\n",
    "cols = df.shape[1]\n",
    "X_initial, y_initial = df.iloc[1:, 0:cols-1].to_numpy(), df.iloc[1:, cols-1:cols].to_numpy()\n",
    "print(np.sum(y_initial == 1) / y_initial.shape[0])\n",
    "print('this is imbalance data')"
   ]
  },
  {
   "cell_type": "code",
   "execution_count": 330,
   "id": "5375594d",
   "metadata": {},
   "outputs": [],
   "source": [
    "# oversample\n",
    "rare_examples = df[df['TenYearCHD']==1]\n",
    "df = pd.concat([df, rare_examples, rare_examples, rare_examples], ignore_index=True)\n",
    "cols = df.shape[1]\n",
    "X_train, y_train = df.iloc[1:, 0:cols-1].to_numpy(), df.iloc[1:, cols-1:cols].to_numpy()"
   ]
  },
  {
   "cell_type": "code",
   "execution_count": 331,
   "id": "0bbcbc0d",
   "metadata": {},
   "outputs": [
    {
     "data": {
      "text/plain": [
       "array([[ 1.        , -0.46150105, -0.13197567,  0.02038259, -0.50137786,\n",
       "        -0.13588937, -0.04045196, -0.00940185, -0.37137299, -0.03712109,\n",
       "         0.01798836, -0.07037858, -0.03360633,  0.06551825,  0.19109147,\n",
       "        -0.0226035 ],\n",
       "       [ 1.        ,  0.53849895, -0.07934409, -0.31295074,  0.49862214,\n",
       "         0.14982491, -0.04045196, -0.00940185, -0.37137299, -0.03712109,\n",
       "         0.00949939, -0.03964572, -0.04418834, -0.01664365, -0.01092873,\n",
       "        -0.03955265],\n",
       "       [ 1.        , -0.46150105,  0.26276117,  0.35371593,  0.49862214,\n",
       "         0.29268206, -0.04045196, -0.00940185,  0.62862701, -0.03712109,\n",
       "        -0.02445646,  0.06673726,  0.11454182,  0.06188276, -0.11193883,\n",
       "         0.05366769],\n",
       "       [ 1.        , -0.46150105, -0.13197567,  0.35371593,  0.49862214,\n",
       "         0.19268206, -0.04045196, -0.00940185, -0.37137299, -0.03712109,\n",
       "         0.07741111, -0.02782539, -0.0018603 , -0.07093352,  0.09008137,\n",
       "         0.00282023],\n",
       "       [ 1.        , -0.46150105, -0.21092304,  0.02038259, -0.50137786,\n",
       "        -0.13588937, -0.04045196, -0.00940185,  0.62862701, -0.03712109,\n",
       "        -0.01936308,  0.20858123,  0.27327198,  0.10356963,  0.00927329,\n",
       "         0.04236825]])"
      ]
     },
     "execution_count": 331,
     "metadata": {},
     "output_type": "execute_result"
    }
   ],
   "source": [
    "# inspect imbalance more clearly\n",
    "def scalar(X):\n",
    "    mu, max, min = np.mean(X, axis=0), np.max(X, axis=0), np.min(X, axis=0)\n",
    "    return (X-mu)/np.maximum(max-min, 1e-2), mu, max, min\n",
    "X_train, mu, max, mim = scalar(X_train)\n",
    "X_train[:, 0] = 1\n",
    "X_train[0:5]"
   ]
  },
  {
   "cell_type": "code",
   "execution_count": 332,
   "id": "11c87f52",
   "metadata": {},
   "outputs": [],
   "source": [
    "# for i in range(X_train.shape[1]):\n",
    "#     plt.figure(figsize = (30, 30))\n",
    "#     plt.scatter(X_train[:, i], y_train, color='r', alpha=0.7)\n",
    "#     plt.xlabel('one dimension of X')\n",
    "#     plt.ylabel('if got heart disease')\n",
    "#     plt.show()"
   ]
  },
  {
   "cell_type": "code",
   "execution_count": 333,
   "id": "99cafbe2",
   "metadata": {},
   "outputs": [],
   "source": [
    "# Core functions\n",
    "def sigmoid(z):\n",
    "    return 1 / (1 + np.exp(-z))\n",
    "def cost_function(X, y, thetas):\n",
    "    \"\"\"\n",
    "    args:\n",
    "    X: (m, n)\n",
    "    y: (m, 1)\n",
    "    thetas: (n, 1)\n",
    "\n",
    "    return:\n",
    "    cost: scalar\n",
    "    \"\"\"\n",
    "    z = np.dot(X, thetas)\n",
    "    m = X.shape[0]\n",
    "    return (-1/m) * np.sum(y*np.log(sigmoid(z)) + (1-y)*np.log(1-sigmoid(z)))\n",
    "def gradient_descent(X, y, thetas):\n",
    "    \"\"\"\n",
    "    args:\n",
    "    X: (m, n)\n",
    "    y: (m, 1)\n",
    "    thetas: (n, 1)\n",
    "\n",
    "    return:\n",
    "    d_thetas:(n, 1)\n",
    "    \"\"\"\n",
    "    m = X.shape[0]\n",
    "    f_x = sigmoid(np.dot(X, thetas)).reshape(-1, 1)\n",
    "    return (1/m) * np.sum((f_x-y)*X, axis=0).reshape(-1, 1)"
   ]
  },
  {
   "cell_type": "code",
   "execution_count": 334,
   "id": "4d1db859",
   "metadata": {},
   "outputs": [
    {
     "data": {
      "image/png": "[encoded data removed]",
      "text/plain": [
       "<Figure size 640x480 with 1 Axes>"
      ]
     },
     "metadata": {},
     "output_type": "display_data"
    },
    {
     "name": "stdout",
     "output_type": "stream",
     "text": [
      "the final parameters are [[-0.34800675]\n",
      " [ 0.39591828]\n",
      " [ 0.69523204]\n",
      " [-0.17799661]\n",
      " [ 0.11968218]\n",
      " [ 0.13510859]\n",
      " [ 0.15901138]\n",
      " [ 0.06541971]\n",
      " [ 0.66826326]\n",
      " [ 0.20996242]\n",
      " [ 0.08805599]\n",
      " [ 0.25461731]\n",
      " [ 0.17520281]\n",
      " [ 0.07181087]\n",
      " [ 0.02317149]\n",
      " [ 0.11153732]]\n"
     ]
    }
   ],
   "source": [
    "# Model training\n",
    "def logistic_learning(X, y, alpha=0.01, iters=5000):\n",
    "    m, n = X.shape\n",
    "    thetas = np.zeros(n).reshape(-1, 1)\n",
    "    Iters = [0]\n",
    "    Cost = [cost_function(X, y, thetas)]\n",
    "    for i in range(1, iters+1):\n",
    "        d_thetas = gradient_descent(X, y, thetas)\n",
    "        thetas = thetas - alpha*d_thetas\n",
    "        Cost.append(cost_function(X, y, thetas))\n",
    "        Iters.append(i)\n",
    "        if abs(Cost[-1] - Cost[-2]) / Cost[-1] < 1e-5:\n",
    "            break\n",
    "    return thetas, Iters, Cost\n",
    "thetas, Iters, Cost = logistic_learning(X_train, y_train)\n",
    "\n",
    "plt.scatter(Iters, Cost, alpha=0.7, color='b')\n",
    "plt.xlabel('the times of iteration')\n",
    "plt.ylabel('the cost')\n",
    "plt.title('logistic regression')\n",
    "plt.show()\n",
    "\n",
    "print(f'the final parameters are {thetas}')"
   ]
  },
  {
   "cell_type": "code",
   "execution_count": 335,
   "id": "ddd13b99",
   "metadata": {},
   "outputs": [
    {
     "name": "stdout",
     "output_type": "stream",
     "text": [
      "0.2843248500567353\n",
      "training accuracy: 65.6022 %\n"
     ]
    }
   ],
   "source": [
    "# predict data and evaluate\n",
    "y_pred_proba = sigmoid(X_train @ thetas)\n",
    "y_pred = (y_pred_proba >= 0.5).astype(int)\n",
    "print(np.mean(y_pred))\n",
    "accuracy = np.mean(y_pred == y_train)\n",
    "print(f'training accuracy: {accuracy*100:.4f} %')"
   ]
  }
 ],
 "metadata": {
  "kernelspec": {
   "display_name": "Python 3",
   "language": "python",
   "name": "python3"
  },
  "language_info": {
   "codemirror_mode": {
    "name": "ipython",
    "version": 3
   },
   "file_extension": ".py",
   "mimetype": "text/x-python",
   "name": "python",
   "nbconvert_exporter": "python",
   "pygments_lexer": "ipython3",
   "version": "3.12.8"
  }
 },
 "nbformat": 4,
 "nbformat_minor": 5
}
